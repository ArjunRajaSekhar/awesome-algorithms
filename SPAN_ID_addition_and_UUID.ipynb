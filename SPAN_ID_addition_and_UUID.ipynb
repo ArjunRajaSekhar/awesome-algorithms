{
  "nbformat": 4,
  "nbformat_minor": 0,
  "metadata": {
    "colab": {
      "provenance": [],
      "include_colab_link": true
    },
    "kernelspec": {
      "name": "python3",
      "display_name": "Python 3"
    },
    "language_info": {
      "name": "python"
    }
  },
  "cells": [
    {
      "cell_type": "markdown",
      "metadata": {
        "id": "view-in-github",
        "colab_type": "text"
      },
      "source": [
        "<a href=\"https://colab.research.google.com/github/ArjunRajaSekhar/awesome-algorithms/blob/master/SPAN_ID_addition_and_UUID.ipynb\" target=\"_parent\"><img src=\"https://colab.research.google.com/assets/colab-badge.svg\" alt=\"Open In Colab\"/></a>"
      ]
    },
    {
      "cell_type": "code",
      "execution_count": null,
      "metadata": {
        "colab": {
          "base_uri": "https://localhost:8080/"
        },
        "id": "f86yC3np8vlv",
        "outputId": "604a9db3-2ec6-41cd-a722-2e964f880006"
      },
      "outputs": [
        {
          "output_type": "stream",
          "name": "stdout",
          "text": [
            "<div class=\"lym-story-output\"><div class=\"lym-story-heading\"></div><div class=\"lym-story-desc\"><div><span class=\"lym-story-v\">Sales</span> stands at <span class=\"lym-story-v\"><span class=\"currency-code\">USD</span>1.47M%</span>, <span class=\"lym-story-highlight\"> <span class=\"lym-story-v\">increase</span> of <span class=\"lym-story-drt\"><span class=\"lym-story-v\">25</span><span class=\"lym-story-v\">%</span> (<span class=\"lym-story-v\">QoQ</span>)<span class=\"lym-story-drtArw\"></span></span></span> in the last <span class=\"lym-story-v\">quarter</span> <span class=\"lym-story-drt\">(<span class=\"lym-story-v\">+38</span><span class=\"lym-story-v\">%</span> <span class=\"lym-story-v\">YoY</span>)<span class=\"lym-story-drtArw\"></span></span>.</div><div>The highest single period <span class=\"lym-story-v\">climb</span> of <span class=\"lym-story-drt\"><span class=\"lym-story-v\">55.13</span><span class=\"lym-story-v\">%</span> <span class=\"lym-story-v\">QoQ</span><span class=\"lym-story-drtArw\"></span></span> was seen in <span class=\"lym-story-highlight\"> <span class=\"lym-story-v\">Q4 2019</span></span> .</div></div></div>\n",
            "<span class=\"lym-story-highlight\" id=\"1\"> <span class=\"lym-story-v\">increase</span> of <span class=\"lym-story-drt\"><span class=\"lym-story-v\">25</span><span class=\"lym-story-v\">%</span> (<span class=\"lym-story-v\">QoQ</span>)<span class=\"lym-story-drtArw\"></span></span></span>\n",
            "<div class=\"lym-story-output\"><div class=\"lym-story-heading\"></div><div class=\"lym-story-desc\"><div><span class=\"lym-story-v\">Sales</span> stands at <span class=\"lym-story-v\"><span class=\"currency-code\">USD</span>1.47M%</span>, <span class=\"lym-story-highlight\" id=\"1\"> <span class=\"lym-story-v\">increase</span> of <span class=\"lym-story-drt\"><span class=\"lym-story-v\">25</span><span class=\"lym-story-v\">%</span> (<span class=\"lym-story-v\">QoQ</span>)<span class=\"lym-story-drtArw\"></span></span></span> in the last <span class=\"lym-story-v\">quarter</span> <span class=\"lym-story-drt\">(<span class=\"lym-story-v\">+38</span><span class=\"lym-story-v\">%</span> <span class=\"lym-story-v\">YoY</span>)<span class=\"lym-story-drtArw\"></span></span>.</div><div>The highest single period <span class=\"lym-story-v\">climb</span> of <span class=\"lym-story-drt\"><span class=\"lym-story-v\">55.13</span><span class=\"lym-story-v\">%</span> <span class=\"lym-story-v\">QoQ</span><span class=\"lym-story-drtArw\"></span></span> was seen in <span class=\"lym-story-highlight\"> <span class=\"lym-story-v\">Q4 2019</span></span> .</div></div></div>\n",
            "<span class=\"lym-story-highlight\" id=\"2\"> <span class=\"lym-story-v\">Q4 2019</span></span>\n",
            "<div class=\"lym-story-output\"><div class=\"lym-story-heading\"></div><div class=\"lym-story-desc\"><div><span class=\"lym-story-v\">Sales</span> stands at <span class=\"lym-story-v\"><span class=\"currency-code\">USD</span>1.47M%</span>, <span class=\"lym-story-highlight\" id=\"1\"> <span class=\"lym-story-v\">increase</span> of <span class=\"lym-story-drt\"><span class=\"lym-story-v\">25</span><span class=\"lym-story-v\">%</span> (<span class=\"lym-story-v\">QoQ</span>)<span class=\"lym-story-drtArw\"></span></span></span> in the last <span class=\"lym-story-v\">quarter</span> <span class=\"lym-story-drt\">(<span class=\"lym-story-v\">+38</span><span class=\"lym-story-v\">%</span> <span class=\"lym-story-v\">YoY</span>)<span class=\"lym-story-drtArw\"></span></span>.</div><div>The highest single period <span class=\"lym-story-v\">climb</span> of <span class=\"lym-story-drt\"><span class=\"lym-story-v\">55.13</span><span class=\"lym-story-v\">%</span> <span class=\"lym-story-v\">QoQ</span><span class=\"lym-story-drtArw\"></span></span> was seen in <span class=\"lym-story-highlight\"> <span class=\"lym-story-v\">Q4 2019</span></span> .</div></div></div>\n",
            "<div class=\"lym-story-output\"><div class=\"lym-story-heading\"></div><div class=\"lym-story-desc\"><div><span class=\"lym-story-v\">Sales</span> stands at <span class=\"lym-story-v\"><span class=\"currency-code\">USD</span>1.47M%</span>, <span class=\"lym-story-highlight\" id=\"1\"> <span class=\"lym-story-v\">increase</span> of <span class=\"lym-story-drt\"><span class=\"lym-story-v\">25</span><span class=\"lym-story-v\">%</span> (<span class=\"lym-story-v\">QoQ</span>)<span class=\"lym-story-drtArw\"></span></span></span> in the last <span class=\"lym-story-v\">quarter</span> <span class=\"lym-story-drt\">(<span class=\"lym-story-v\">+38</span><span class=\"lym-story-v\">%</span> <span class=\"lym-story-v\">YoY</span>)<span class=\"lym-story-drtArw\"></span></span>.</div><div>The highest single period <span class=\"lym-story-v\">climb</span> of <span class=\"lym-story-drt\"><span class=\"lym-story-v\">55.13</span><span class=\"lym-story-v\">%</span> <span class=\"lym-story-v\">QoQ</span><span class=\"lym-story-drtArw\"></span></span> was seen in <span class=\"lym-story-highlight\"> <span class=\"lym-story-v\">Q4 2019</span></span> .</div></div></div>\n"
          ]
        }
      ],
      "source": [
        "import bs4\n",
        "from bs4 import SoupStrainer\n",
        "import re\n",
        "\n",
        "sample_text = \"<div class=\\\"lym-story-output\\\"><div class=\\\"lym-story-heading\\\"></div><div class=\\\"lym-story-desc\\\"><div><span class = \\\"lym-story-v\\\">Sales</span> stands at <span class = \\\"lym-story-v\\\"><span class=\\\"currency-code\\\">USD</span>1.47M%</span>, <span class= \\\"lym-story-highlight\\\"> <span class = \\\"lym-story-v\\\">increase</span> of <span class = \\\"lym-story-drt\\\"><span class = \\\"lym-story-v\\\">25</span><span class = \\\"lym-story-v\\\">%</span> (<span class = \\\"lym-story-v\\\">QoQ</span>)<span class = \\\"lym-story-drtArw\\\"></span></span></span> in the last <span class = \\\"lym-story-v\\\">quarter</span> <span class = \\\"lym-story-drt\\\">(<span class = \\\"lym-story-v\\\">+38</span><span class = \\\"lym-story-v\\\">%</span> <span class = \\\"lym-story-v\\\">YoY</span>)<span class = \\\"lym-story-drtArw\\\"></span></span>.</div><div>The highest single period <span class = \\\"lym-story-v\\\">climb</span> of <span class = \\\"lym-story-drt\\\"><span class = \\\"lym-story-v\\\">55.13</span><span class = \\\"lym-story-v\\\">%</span> <span class = \\\"lym-story-v\\\">QoQ</span><span class = \\\"lym-story-drtArw\\\"></span></span> was seen in <span class= \\\"lym-story-highlight\\\"> <span class = \\\"lym-story-v\\\">Q4 2019</span></span> .</div></div></div>\"\n",
        "\n",
        "# only_span_tags = SoupStrainer(\"span\")\n",
        "\n",
        "# only_tags_with_id_link2 = SoupStrainer(div=\"lym-story-highlight\")\n",
        "\n",
        "# print(only_span_tags)\n",
        "# print(only_tags_with_id_link2)\n",
        "\n",
        "# soup = bs4.BeautifulSoup(sample_text, 'html.parser')\n",
        "# print(soup)\n",
        "# i=1\n",
        "# for tag in soup.find_all(\"span\", attrs={'class':'lym-story-highlight'}):\n",
        "#   tag['id'] = i\n",
        "#   soup = re.sub('<span class=\"lym-story-highlight\">\\s</span>',str(tag),str(soup),1)\n",
        "#   i+=1\n",
        "#   print(tag)\n",
        "#   print(soup)\n",
        "\n",
        "# print(soup)\n",
        "\n",
        "import re\n",
        "import bs4\n",
        "from uuid import uuid4, uuid1, uuid3\n",
        "\n",
        "sample_text = \"<div class=\\\"lym-story-output\\\"><div class=\\\"lym-story-heading\\\"></div><div class=\\\"lym-story-desc\\\"><div><span class = \\\"lym-story-v\\\">Sales</span> stands at <span class = \\\"lym-story-v\\\"><span class=\\\"currency-code\\\">USD</span>1.47M%</span>, <span class= \\\"lym-story-highlight\\\"> <span class = \\\"lym-story-v\\\">increase</span> of <span class = \\\"lym-story-drt\\\"><span class = \\\"lym-story-v\\\">25</span><span class = \\\"lym-story-v\\\">%</span> (<span class = \\\"lym-story-v\\\">QoQ</span>)<span class = \\\"lym-story-drtArw\\\"></span></span></span> in the last <span class = \\\"lym-story-v\\\">quarter</span> <span class = \\\"lym-story-drt\\\">(<span class = \\\"lym-story-v\\\">+38</span><span class = \\\"lym-story-v\\\">%</span> <span class = \\\"lym-story-v\\\">YoY</span>)<span class = \\\"lym-story-drtArw\\\"></span></span>.</div><div>The highest single period <span class = \\\"lym-story-v\\\">climb</span> of <span class = \\\"lym-story-drt\\\"><span class = \\\"lym-story-v\\\">55.13</span><span class = \\\"lym-story-v\\\">%</span> <span class = \\\"lym-story-v\\\">QoQ</span><span class = \\\"lym-story-drtArw\\\"></span></span> was seen in <span class= \\\"lym-story-highlight\\\"> <span class = \\\"lym-story-v\\\">Q4 2019</span></span> .</div></div></div>\"\n",
        "soup = bs4.BeautifulSoup(sample_text, 'html.parser')\n",
        "\n",
        "\n",
        "for item in soup.find_all(\"span\", attrs={'class':'lym-story-highlight'}):\n",
        "  soup = re.sub('<span class=\"lym-story-highlight\">',f'<span class=\"lym-story-highlight\" id={str(uuid4().hex)}>', str(soup), 1)\n",
        "\n",
        "\n",
        "print(soup)\n",
        "\n"
      ]
    },
    {
      "cell_type": "code",
      "source": [
        "sample_text = \"<div class=\\\"lym-story-output\\\"><div class=\\\"lym-story-heading\\\"></div><div class=\\\"lym-story-desc\\\"><div><span class = \\\"lym-story-v\\\">Sales</span> stands at <span class = \\\"lym-story-v\\\"><span class=\\\"currency-code\\\">USD</span>1.47M%</span>, <span class= \\\"lym-story-highlight\\\"> <span class = \\\"lym-story-v\\\">increase</span> of <span class = \\\"lym-story-drt\\\"><span class = \\\"lym-story-v\\\">25</span><span class = \\\"lym-story-v\\\">%</span> (<span class = \\\"lym-story-v\\\">QoQ</span>)<span class = \\\"lym-story-drtArw\\\"></span></span></span> in the last <span class = \\\"lym-story-v\\\">quarter</span> <span class = \\\"lym-story-drt\\\">(<span class = \\\"lym-story-v\\\">+38</span><span class = \\\"lym-story-v\\\">%</span> <span class = \\\"lym-story-v\\\">YoY</span>)<span class = \\\"lym-story-drtArw\\\"></span></span>.</div><div>The highest single period <span class = \\\"lym-story-v\\\">climb</span> of <span class = \\\"lym-story-drt\\\"><span class = \\\"lym-story-v\\\">55.13</span><span class = \\\"lym-story-v\\\">%</span> <span class = \\\"lym-story-v\\\">QoQ</span><span class = \\\"lym-story-drtArw\\\"></span></span> was seen in <span class= \\\"lym-story-highlight\\\"> <span class = \\\"lym-story-v\\\">Q4 2019</span></span> .</div></div></div>\"\n",
        "\n"
      ],
      "metadata": {
        "id": "5ptfRFMH2Jy2"
      },
      "execution_count": null,
      "outputs": []
    }
  ]
}